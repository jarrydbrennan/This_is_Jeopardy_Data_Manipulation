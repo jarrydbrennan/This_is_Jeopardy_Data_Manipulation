{
  "cells": [
    {
      "cell_type": "markdown",
      "metadata": {
        "id": "view-in-github",
        "colab_type": "text"
      },
      "source": [
        "<a href=\"https://colab.research.google.com/github/jarrydbrennan/This_is_Jeopardy_Data_Manipulation/blob/main/This_is_Jeopardy.ipynb\" target=\"_parent\"><img src=\"https://colab.research.google.com/assets/colab-badge.svg\" alt=\"Open In Colab\"/></a>"
      ]
    },
    {
      "cell_type": "markdown",
      "metadata": {
        "id": "_k-XmFx-enMM"
      },
      "source": [
        "# This is Jeopardy!"
      ]
    },
    {
      "cell_type": "markdown",
      "metadata": {
        "id": "BvirqFt9enMR"
      },
      "source": [
        "#### Overview"
      ]
    },
    {
      "cell_type": "markdown",
      "metadata": {
        "id": "kW23jkWUenMR"
      },
      "source": [
        "This project is slightly different than others you have encountered thus far. Instead of a step-by-step tutorial, this project contains a series of open-ended requirements which describe the project you'll be building. There are many possible ways to correctly fulfill all of these requirements, and you should expect to use the internet, Codecademy, and/or other resources when you encounter a problem that you cannot easily solve."
      ]
    },
    {
      "cell_type": "markdown",
      "metadata": {
        "id": "tbi6UiZSenMS"
      },
      "source": [
        "#### Project Goals"
      ]
    },
    {
      "cell_type": "markdown",
      "metadata": {
        "id": "SfJuTwgsenMS"
      },
      "source": [
        "You will work to write several functions that investigate a dataset of _Jeopardy!_ questions and answers. Filter the dataset for topics that you're interested in, compute the average difficulty of those questions, and train to become the next Jeopardy champion!"
      ]
    },
    {
      "cell_type": "markdown",
      "metadata": {
        "id": "m_pnxF7senMT"
      },
      "source": [
        "## Prerequisites"
      ]
    },
    {
      "cell_type": "markdown",
      "metadata": {
        "id": "VYjHtubyenMT"
      },
      "source": [
        "In order to complete this project, you should have completed the Pandas lessons in the <a href=\"https://www.codecademy.com/learn/paths/analyze-data-with-python\">Analyze Data with Python Skill Path</a>. You can also find those lessons in the <a href=\"https://www.codecademy.com/learn/data-processing-pandas\">Data Analysis with Pandas course</a> or the <a href=\"https://www.codecademy.com/learn/paths/data-science/\">Data Scientist Career Path</a>.\n",
        "\n",
        "Finally, the <a href=\"https://www.codecademy.com/learn/practical-data-cleaning\">Practical Data Cleaning</a> course may also be helpful."
      ]
    },
    {
      "cell_type": "markdown",
      "metadata": {
        "id": "Mfc7DrbEenMU"
      },
      "source": [
        "## Project Requirements"
      ]
    },
    {
      "cell_type": "markdown",
      "metadata": {
        "id": "5N9IveQFenMU"
      },
      "source": [
        "1. We've provided a csv file containing data about the game show _Jeopardy!_ in a file named `jeopardy.csv`. Load the data into a DataFrame and investigate its contents. Try to print out specific columns.\n",
        "\n",
        "   Note that in order to make this project as \"real-world\" as possible, we haven't modified the data at all - we're giving it to you exactly how we found it. As a result, this data isn't as \"clean\" as the datasets you normally find on Codecademy. More specifically, there's something odd about the column names. After you figure out the problem with the column names, you may want to rename them to make your life easier for the rest of the project.\n",
        "   \n",
        "   In order to display the full contents of a column, we've added this line of code for you:\n",
        "   \n",
        "   ```py\n",
        "   pd.set_option('display.max_colwidth', None)\n",
        "   ```"
      ]
    },
    {
      "cell_type": "markdown",
      "source": [
        "Import and mount up!"
      ],
      "metadata": {
        "id": "84z1QUJYgdG_"
      }
    },
    {
      "cell_type": "code",
      "execution_count": 1,
      "metadata": {
        "colab": {
          "base_uri": "https://localhost:8080/"
        },
        "id": "_vE77zD4enMV",
        "outputId": "859cd505-4d54-4a19-b91c-fcee3c0f382e"
      },
      "outputs": [
        {
          "output_type": "stream",
          "name": "stdout",
          "text": [
            "Mounted at /content/drive\n"
          ]
        }
      ],
      "source": [
        "import pandas as pd\n",
        "import os\n",
        "from google.colab import drive\n",
        "drive.mount('/content/drive')"
      ]
    },
    {
      "cell_type": "markdown",
      "source": [
        "Read in jeopardy file into DataFrame"
      ],
      "metadata": {
        "id": "bw2T_HN9ghXd"
      }
    },
    {
      "cell_type": "code",
      "source": [
        "file_path = '/content/drive/MyDrive/Codecademy/This is Jeopardy'\n",
        "pd.set_option('display.max_colwidth', None)\n",
        "jeo = pd.read_csv(os.path.join(file_path, 'jeopardy.csv'))\n",
        "print(jeo.head(10))\n",
        "print(len(jeo))"
      ],
      "metadata": {
        "id": "Nd-mYg_Ifnbo"
      },
      "execution_count": null,
      "outputs": []
    },
    {
      "cell_type": "code",
      "source": [
        "jeo.rename(columns = {'Show Number':'show_number', ' Air Date':'air_date', ' Round':'round', ' Category':'category', ' Value':'value', ' Question':'question', ' Answer':'answer'}, inplace = True)\n",
        "print(jeo.head())"
      ],
      "metadata": {
        "id": "vKRz71pYk28_"
      },
      "execution_count": null,
      "outputs": []
    },
    {
      "cell_type": "markdown",
      "metadata": {
        "id": "X_nCSJJKenMW"
      },
      "source": [
        "2. Write a function that filters the dataset for questions that contains all of the words in a list of words. For example, when the list `[\"King\", \"England\"]` was passed to our function, the function returned a DataFrame of 49 rows. Every row had the strings `\"King\"` and `\"England\"` somewhere in its `\" Question\"`.\n",
        "\n",
        "   Test your function by printing out the column containing the question of each row of the dataset."
      ]
    },
    {
      "cell_type": "code",
      "execution_count": 66,
      "metadata": {
        "colab": {
          "base_uri": "https://localhost:8080/"
        },
        "id": "egA2oRD9enMX",
        "outputId": "11847536-4a48-4096-c1be-d801a1cdf260"
      },
      "outputs": [
        {
          "output_type": "stream",
          "name": "stdout",
          "text": [
            "49\n"
          ]
        }
      ],
      "source": [
        "df_filter = jeo[jeo.question.apply(lambda x: all(word in x for word in [\"King\",\"England\"]))]\n",
        "print(len(df_filter))"
      ]
    },
    {
      "cell_type": "markdown",
      "metadata": {
        "id": "MhAIFAhGenMX"
      },
      "source": [
        "3. Test your original function with a few different sets of words to try to find some ways your function breaks. Edit your function so it is more robust.\n",
        "\n",
        "   For example, think about capitalization. We probably want to find questions that contain the word `\"King\"` or `\"king\"`.\n",
        "   \n",
        "   You may also want to check to make sure you don't find rows that contain substrings of your given words. For example, our function found a question that didn't contain the word `\"king\"`, however it did contain the word `\"viking\"` &mdash; it found the `\"king\"` inside `\"viking\"`. Note that this also comes with some drawbacks &mdash; you would no longer find questions that contained words like `\"England's\"`."
      ]
    },
    {
      "cell_type": "code",
      "execution_count": 68,
      "metadata": {
        "colab": {
          "base_uri": "https://localhost:8080/"
        },
        "id": "RXQFwT7WenMY",
        "outputId": "1f5ff93a-2681-45f7-ac78-c83f7c31e3cd"
      },
      "outputs": [
        {
          "output_type": "stream",
          "name": "stdout",
          "text": [
            "152\n"
          ]
        }
      ],
      "source": [
        "df_filter = jeo[jeo.question.apply(lambda x: all(word.lower() in x.lower() for word in [\"king\",\"england\"]))]\n",
        "print(len(df_filter))"
      ]
    },
    {
      "cell_type": "markdown",
      "metadata": {
        "id": "j4_RgdXCenMY"
      },
      "source": [
        "4. We may want to eventually compute aggregate statistics, like `.mean()` on the `\" Value\"` column. But right now, the values in that column are strings. Convert the`\" Value\"` column to floats. If you'd like to, you can create a new column with float values.\n",
        "\n",
        "   Now that you can filter the dataset of question, use your new column that contains the float values of each question to find the \"difficulty\" of certain topics. For example, what is the average value of questions that contain the word `\"King\"`?\n",
        "   \n",
        "   Make sure to use the dataset that contains the float values as the dataset you use in your filtering function."
      ]
    },
    {
      "cell_type": "code",
      "execution_count": 69,
      "metadata": {
        "colab": {
          "base_uri": "https://localhost:8080/"
        },
        "id": "Ze7-ps3henMY",
        "outputId": "cc8ea16e-935a-423c-d547-cdc01cf6b49b"
      },
      "outputs": [
        {
          "output_type": "stream",
          "name": "stdout",
          "text": [
            "0    200.0\n",
            "1    200.0\n",
            "2    200.0\n",
            "3    200.0\n",
            "4    200.0\n",
            "Name: value, dtype: float64\n"
          ]
        }
      ],
      "source": [
        "jeo['value'] = jeo['value'].apply(lambda x: float(x.strip('$').replace(',', '')) if x and x != 'None' else 0)\n",
        "#jeo['value'] = jeo['value'].astype(float)\n",
        "print(jeo.value.head())"
      ]
    },
    {
      "cell_type": "code",
      "source": [
        "avg_value = jeo[jeo['question'].str.lower().str.contains(\"king\")].value.mean()\n",
        "print(avg_value)"
      ],
      "metadata": {
        "colab": {
          "base_uri": "https://localhost:8080/"
        },
        "id": "Yjl_j7g5vujq",
        "outputId": "bbfd1fa6-8fcd-40e3-8e29-af459ec385b1"
      },
      "execution_count": 70,
      "outputs": [
        {
          "output_type": "stream",
          "name": "stdout",
          "text": [
            "771.8833850722094\n"
          ]
        }
      ]
    },
    {
      "cell_type": "markdown",
      "metadata": {
        "id": "wp5DSl6LenMZ"
      },
      "source": [
        "5. Write a function that returns the count of unique answers to all of the questions in a dataset. For example, after filtering the entire dataset to only questions containing the word `\"King\"`, we could then find all of the unique answers to those questions. The answer \"Henry VIII\" appeared 55 times and was the most common answer."
      ]
    },
    {
      "cell_type": "code",
      "execution_count": 71,
      "metadata": {
        "colab": {
          "base_uri": "https://localhost:8080/"
        },
        "id": "aXIPdJ7qenMZ",
        "outputId": "3849605e-b571-4c61-cef1-b3d51f5a2459"
      },
      "outputs": [
        {
          "output_type": "stream",
          "name": "stdout",
          "text": [
            "5268\n"
          ]
        }
      ],
      "source": [
        "unique_answers = jeo[jeo['question'].str.lower().str.contains(\"king\")].answer.unique()\n",
        "print(len(unique_answers))"
      ]
    },
    {
      "cell_type": "markdown",
      "metadata": {
        "id": "qNq7Sl6wenMZ"
      },
      "source": [
        "6. Explore from here! This is an incredibly rich dataset, and there are so many interesting things to discover. There are a few columns that we haven't even started looking at yet. Here are some ideas on ways to continue working with this data:\n",
        "\n",
        " * Investigate the ways in which questions change over time by filtering by the date. How many questions from the 90s use the word `\"Computer\"` compared to questions from the 2000s?\n",
        " * Is there a connection between the round and the category? Are you more likely to find certain categories, like `\"Literature\"` in Single Jeopardy or Double Jeopardy?\n",
        " * Build a system to quiz yourself. Grab random questions, and use the <a href=\"https://docs.python.org/3/library/functions.html#input\">input</a> function to get a response from the user. Check to see if that response was right or wrong."
      ]
    },
    {
      "cell_type": "code",
      "execution_count": null,
      "metadata": {
        "id": "-2jzBe3henMZ"
      },
      "outputs": [],
      "source": []
    },
    {
      "cell_type": "markdown",
      "metadata": {
        "id": "JQ4MiaRsenMZ"
      },
      "source": [
        "## Solution"
      ]
    },
    {
      "cell_type": "markdown",
      "metadata": {
        "id": "fSvmciSHenMZ"
      },
      "source": [
        "7. Compare your program to our <a href=\"https://content.codecademy.com/PRO/independent-practice-projects/jeopardy/jeopardy_solution.zip\">sample solution code</a> - remember, that your program might look different from ours (and probably will) and that's okay!"
      ]
    },
    {
      "cell_type": "markdown",
      "metadata": {
        "id": "ImlfZzJ3enMa"
      },
      "source": [
        "8. Great work! Visit <a href=\"https://discuss.codecademy.com/t/this-is-jeopardy-challenge-project-python-pandas/462365\">our forums</a> to compare your project to our sample solution code. You can also learn how to host your own solution on GitHub so you can share it with other learners! Your solution might look different from ours, and that's okay! There are multiple ways to solve these projects, and you'll learn more by seeing others' code."
      ]
    },
    {
      "cell_type": "code",
      "execution_count": null,
      "metadata": {
        "id": "ZO4DujpqenMa"
      },
      "outputs": [],
      "source": []
    }
  ],
  "metadata": {
    "kernelspec": {
      "display_name": "Python 3 (ipykernel)",
      "language": "python",
      "name": "python3"
    },
    "language_info": {
      "codemirror_mode": {
        "name": "ipython",
        "version": 3
      },
      "file_extension": ".py",
      "mimetype": "text/x-python",
      "name": "python",
      "nbconvert_exporter": "python",
      "pygments_lexer": "ipython3",
      "version": "3.7.11"
    },
    "colab": {
      "provenance": [],
      "include_colab_link": true
    }
  },
  "nbformat": 4,
  "nbformat_minor": 0
}